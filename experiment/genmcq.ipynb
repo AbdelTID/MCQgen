{
 "cells": [
  {
   "cell_type": "code",
   "execution_count": 74,
   "metadata": {},
   "outputs": [],
   "source": [
    "import os \n",
    "import re\n",
    "import json \n",
    "import pandas as pd\n",
    "import traceback"
   ]
  },
  {
   "cell_type": "code",
   "execution_count": 32,
   "metadata": {},
   "outputs": [],
   "source": [
    "\n",
    "import langchain\n",
    "from langchain.chat_models import ChatOpenAI\n",
    "from langchain_community.llms import HuggingFaceEndpoint\n",
    "from langchain.chains import LLMChain, SequentialChain, ConversationChain\n",
    "from langchain_community.callbacks import get_openai_callback\n",
    "# from langchain_openai import OpenAI\n",
    "from langchain_core.prompts import PromptTemplate\n",
    "from langchain.agents import AgentType\n",
    "from langchain.agents import load_tools \n",
    "from langchain.agents import initialize_agent\n",
    "import PyPDF2"
   ]
  },
  {
   "cell_type": "code",
   "execution_count": 13,
   "metadata": {},
   "outputs": [],
   "source": [
    "from dotenv import load_dotenv\n",
    "load_dotenv()\n",
    "openai_key = os.getenv(\"OPENAI_API_KEY\")\n",
    "HUGGINGFACEHUB_API_TOKEN = os.getenv(\"HUGGINGFACEHUB_API_TOKEN\")\n",
    "serpapi_key = os.getenv(\"serpapi_key\")\n",
    "os.environ['HUGGINGFACEHUB_API_TOKEN']=HUGGINGFACEHUB_API_TOKEN "
   ]
  },
  {
   "cell_type": "markdown",
   "metadata": {},
   "source": [
    "## Test HUGGINGFACE with google-search-results"
   ]
  },
  {
   "cell_type": "code",
   "execution_count": 14,
   "metadata": {},
   "outputs": [
    {
     "name": "stderr",
     "output_type": "stream",
     "text": [
      "WARNING! max_length is not default parameter.\n",
      "                    max_length was transferred to model_kwargs.\n",
      "                    Please make sure that max_length is what you intended.\n",
      "WARNING! token is not default parameter.\n",
      "                    token was transferred to model_kwargs.\n",
      "                    Please make sure that token is what you intended.\n",
      "d:\\GenAI\\MCQgen\\env\\lib\\site-packages\\tqdm\\auto.py:21: TqdmWarning: IProgress not found. Please update jupyter and ipywidgets. See https://ipywidgets.readthedocs.io/en/stable/user_install.html\n",
      "  from .autonotebook import tqdm as notebook_tqdm\n"
     ]
    },
    {
     "name": "stdout",
     "output_type": "stream",
     "text": [
      "The token has not been saved to the git credentials helper. Pass `add_to_git_credential=True` in this function directly or `--add-to-git-credential` if using via `huggingface-cli` if you want to set the git credential as well.\n",
      "Token is valid (permission: read).\n",
      "Your token has been saved to C:\\Users\\Abdel\\.cache\\huggingface\\token\n",
      "Login successful\n"
     ]
    },
    {
     "name": "stderr",
     "output_type": "stream",
     "text": [
      "d:\\GenAI\\MCQgen\\env\\lib\\site-packages\\langchain_core\\_api\\deprecation.py:119: LangChainDeprecationWarning: The class `LLMChain` was deprecated in LangChain 0.1.17 and will be removed in 0.3.0. Use RunnableSequence, e.g., `prompt | llm` instead.\n",
      "  warn_deprecated(\n",
      "d:\\GenAI\\MCQgen\\env\\lib\\site-packages\\langchain_core\\_api\\deprecation.py:119: LangChainDeprecationWarning: The method `Chain.run` was deprecated in langchain 0.1.0 and will be removed in 0.2.0. Use invoke instead.\n",
      "  warn_deprecated(\n"
     ]
    },
    {
     "name": "stdout",
     "output_type": "stream",
     "text": [
      " The FIFA World Cup is held every four years, so the year 2022 would not be an actual year of the tournament. The most recent World Cup was held in 2018, and the next one is scheduled for Qatar in 2022. However, as of now, the 2022 World Cup is still in progress, so we cannot determine a winner yet. Therefore, no team has won the FIFA World Cup in the year 2022.\n"
     ]
    }
   ],
   "source": [
    "question = \"Who won the FIFA World Cup in the year 2022? \"\n",
    "\n",
    "template = \"\"\"Question: {question}\n",
    "\n",
    "Answer: Let's think step by step.\"\"\"\n",
    "\n",
    "prompt = PromptTemplate.from_template(template)\n",
    "\n",
    "repo_id =  \"mistralai/Mistral-7B-Instruct-v0.2\"\n",
    "\n",
    "llm = HuggingFaceEndpoint(\n",
    "    repo_id=repo_id, max_length=128, temperature=0.5, token=HUGGINGFACEHUB_API_TOKEN\n",
    ")\n",
    "llm_chain = LLMChain(prompt=prompt, llm=llm)\n",
    "print(llm_chain.run(question))\n",
    "tool = load_tools([\"serpapi\"],serpapi_api_key=serpapi_key,llm=llm)\n",
    "agent = initialize_agent(tool, llm,agent = AgentType.ZERO_SHOT_REACT_DESCRIPTION,verbose=True)\n",
    "agent.run(\"world cup 2022 winner\")"
   ]
  },
  {
   "cell_type": "code",
   "execution_count": 21,
   "metadata": {},
   "outputs": [],
   "source": [
    "RESPONSE_JSON = {\n",
    "    \"1\": {\n",
    "        \"mcq\": \"multiple choice question\",\n",
    "        \"options\": {\n",
    "            \"a\": \"choice here\",\n",
    "            \"b\": \"choice here\",\n",
    "            \"c\": \"choice here\",\n",
    "            \"d\": \"choice here\",\n",
    "        },\n",
    "        \"correct\": \"correct answer\",\n",
    "    },\n",
    "    \"2\": {\n",
    "        \"mcq\": \"multiple choice question\",\n",
    "        \"options\": {\n",
    "            \"a\": \"choice here\",\n",
    "            \"b\": \"choice here\",\n",
    "            \"c\": \"choice here\",\n",
    "            \"d\": \"choice here\",\n",
    "        },\n",
    "        \"correct\": \"correct answer\",\n",
    "    },\n",
    "    \"3\": {\n",
    "        \"mcq\": \"multiple choice question\",\n",
    "        \"options\": {\n",
    "            \"a\": \"choice here\",\n",
    "            \"b\": \"choice here\",\n",
    "            \"c\": \"choice here\",\n",
    "            \"d\": \"choice here\",\n",
    "        },\n",
    "        \"correct\": \"correct answer\",\n",
    "    },\n",
    "}\n"
   ]
  },
  {
   "cell_type": "code",
   "execution_count": 48,
   "metadata": {},
   "outputs": [],
   "source": [
    "TEMPLATE = \"\"\"\n",
    "Text:{text}\n",
    "You are an expert MCQ Marker. Given the above text, it is your job to create a Quiz of {number} multiple choice questions\n",
    "for {subject} students in {tone} tone.\n",
    "Make sure the questions are not repeated and check all the questions to be conforming the text as well.\n",
    "Make sure to format your response like RESPONSE_JSON below and use it as a guide.\n",
    "Ensure to make {number} MCQs.\n",
    "\n",
    "### RESPONSE_JSON \n",
    "{response_json}\n",
    "\n",
    "\"\"\"\n",
    "\n",
    "quiz_gen_prompt = PromptTemplate(\n",
    "    input_variables = [\"text\", \"number\", \"subject\",\"tone\",\"response_json\"],\n",
    "    template = TEMPLATE\n",
    ")"
   ]
  },
  {
   "cell_type": "code",
   "execution_count": 49,
   "metadata": {},
   "outputs": [],
   "source": [
    "quiz_chain = LLMChain(prompt=quiz_gen_prompt, llm=llm,output_key='quiz',verbose=True)\n"
   ]
  },
  {
   "cell_type": "code",
   "execution_count": 50,
   "metadata": {},
   "outputs": [],
   "source": [
    "TEMPLATE2=\"\"\"\n",
    "You are an expert english grammarian and writer. Given a Multiple Choice Quiz for {subject} students.\\\n",
    "You need to evaluate the complexity of the question and give a complete analysis of the quiz. Only use at max 50 words for complexity analysis. \n",
    "if the quiz is not at per with the cognitive and analytical abilities of the students,\\\n",
    "update the quiz questions which needs to be changed and change the tone such that it perfectly fits the student abilities\n",
    "Quiz_MCQs:\n",
    "{quiz}\n",
    "\n",
    "Check from an expert English Writer of the above quiz:\n",
    "\"\"\""
   ]
  },
  {
   "cell_type": "code",
   "execution_count": 60,
   "metadata": {},
   "outputs": [],
   "source": [
    "quiz_eval_prompt=PromptTemplate(input_variables=[\"subject\", \"quiz\"], template=TEMPLATE)\n",
    "\n",
    "review_chain=LLMChain(llm=llm, prompt=quiz_eval_prompt, output_key=\"review\", verbose=True)\n"
   ]
  },
  {
   "cell_type": "code",
   "execution_count": 61,
   "metadata": {},
   "outputs": [],
   "source": [
    "gen_eval_chain=SequentialChain(chains=[quiz_chain, review_chain], input_variables=[\"text\", \"number\", \"subject\", \"tone\", \"response_json\"],\n",
    "                                        output_variables=[\"quiz\", \"review\"], verbose=True,)"
   ]
  },
  {
   "cell_type": "code",
   "execution_count": 62,
   "metadata": {},
   "outputs": [],
   "source": [
    "file_path = r\"D:\\GenAI\\MCQgen\\data.txt\""
   ]
  },
  {
   "cell_type": "code",
   "execution_count": 63,
   "metadata": {},
   "outputs": [],
   "source": [
    "with open(file_path, 'r') as file:\n",
    "    TEXT = file.read()"
   ]
  },
  {
   "cell_type": "code",
   "execution_count": 64,
   "metadata": {},
   "outputs": [
    {
     "name": "stdout",
     "output_type": "stream",
     "text": [
      "Biology is the scientific study of life.[1][2][3] It is a natural science with a broad scope but has several unifying themes that tie it together as a single, coherent field.[1][2][3] For instance, all organisms are made up of cells that process hereditary information encoded in genes, which can be transmitted to future generations. Another major theme is evolution, which explains the unity and diversity of life.[1][2][3] Energy processing is also important to life as it allows organisms to move, grow, and reproduce.[1][2][3] Finally, all organisms are able to regulate their own internal environments.[1][2][3][4][5]\n",
      "\n",
      "Biologists are able to study life at multiple levels of organization,[1] from the molecular biology of a cell to the anatomy and physiology of plants and animals, and evolution of populations.[1][6] Hence, there are multiple subdisciplines within biology, each defined by the nature of their research questions and the tools that they use.[7][8][9] Like other scientists, biologists use the scientific method to make observations, pose questions, generate hypotheses, perform experiments, and form conclusions about the world around them.[1]\n",
      "\n",
      "Life on Earth, which emerged more than 3.7 billion years ago,[10] is immensely diverse. Biologists have sought to study and classify the various forms of life, from prokaryotic organisms such as archaea and bacteria to eukaryotic organisms such as protists, fungi, plants, and animals. These various organisms contribute to the biodiversity of an ecosystem, where they play specialized roles in the cycling of nutrients and energy through their biophysical environment.\n"
     ]
    }
   ],
   "source": [
    "print(TEXT)"
   ]
  },
  {
   "cell_type": "code",
   "execution_count": 65,
   "metadata": {},
   "outputs": [
    {
     "data": {
      "text/plain": [
       "'{\"1\": {\"mcq\": \"multiple choice question\", \"options\": {\"a\": \"choice here\", \"b\": \"choice here\", \"c\": \"choice here\", \"d\": \"choice here\"}, \"correct\": \"correct answer\"}, \"2\": {\"mcq\": \"multiple choice question\", \"options\": {\"a\": \"choice here\", \"b\": \"choice here\", \"c\": \"choice here\", \"d\": \"choice here\"}, \"correct\": \"correct answer\"}, \"3\": {\"mcq\": \"multiple choice question\", \"options\": {\"a\": \"choice here\", \"b\": \"choice here\", \"c\": \"choice here\", \"d\": \"choice here\"}, \"correct\": \"correct answer\"}}'"
      ]
     },
     "execution_count": 65,
     "metadata": {},
     "output_type": "execute_result"
    }
   ],
   "source": [
    "# Serialize the Python dictionary into a JSON-formatted string\n",
    "json.dumps(RESPONSE_JSON)"
   ]
  },
  {
   "cell_type": "code",
   "execution_count": 102,
   "metadata": {},
   "outputs": [
    {
     "name": "stdout",
     "output_type": "stream",
     "text": [
      "\n",
      "\n",
      "\u001b[1m> Entering new SequentialChain chain...\u001b[0m\n",
      "\n",
      "\n",
      "\u001b[1m> Entering new LLMChain chain...\u001b[0m\n",
      "Prompt after formatting:\n",
      "\u001b[32;1m\u001b[1;3m\n",
      "Text:Biology is the scientific study of life.[1][2][3] It is a natural science with a broad scope but has several unifying themes that tie it together as a single, coherent field.[1][2][3] For instance, all organisms are made up of cells that process hereditary information encoded in genes, which can be transmitted to future generations. Another major theme is evolution, which explains the unity and diversity of life.[1][2][3] Energy processing is also important to life as it allows organisms to move, grow, and reproduce.[1][2][3] Finally, all organisms are able to regulate their own internal environments.[1][2][3][4][5]\n",
      "\n",
      "Biologists are able to study life at multiple levels of organization,[1] from the molecular biology of a cell to the anatomy and physiology of plants and animals, and evolution of populations.[1][6] Hence, there are multiple subdisciplines within biology, each defined by the nature of their research questions and the tools that they use.[7][8][9] Like other scientists, biologists use the scientific method to make observations, pose questions, generate hypotheses, perform experiments, and form conclusions about the world around them.[1]\n",
      "\n",
      "Life on Earth, which emerged more than 3.7 billion years ago,[10] is immensely diverse. Biologists have sought to study and classify the various forms of life, from prokaryotic organisms such as archaea and bacteria to eukaryotic organisms such as protists, fungi, plants, and animals. These various organisms contribute to the biodiversity of an ecosystem, where they play specialized roles in the cycling of nutrients and energy through their biophysical environment.\n",
      "You are an expert MCQ Marker. Given the above text, it is your job to create a Quiz of 5 multiple choice questions\n",
      "for biology students in simple tone.\n",
      "Make sure the questions are not repeated and check all the questions to be conforming the text as well.\n",
      "Make sure to format your response like RESPONSE_JSON below and use it as a guide.\n",
      "Ensure to make 5 MCQs.\n",
      "\n",
      "### RESPONSE_JSON \n",
      "{\"1\": {\"mcq\": \"multiple choice question\", \"options\": {\"a\": \"choice here\", \"b\": \"choice here\", \"c\": \"choice here\", \"d\": \"choice here\"}, \"correct\": \"correct answer\"}, \"2\": {\"mcq\": \"multiple choice question\", \"options\": {\"a\": \"choice here\", \"b\": \"choice here\", \"c\": \"choice here\", \"d\": \"choice here\"}, \"correct\": \"correct answer\"}, \"3\": {\"mcq\": \"multiple choice question\", \"options\": {\"a\": \"choice here\", \"b\": \"choice here\", \"c\": \"choice here\", \"d\": \"choice here\"}, \"correct\": \"correct answer\"}}\n",
      "\n",
      "\u001b[0m\n"
     ]
    },
    {
     "name": "stdout",
     "output_type": "stream",
     "text": [
      "\n",
      "\u001b[1m> Finished chain.\u001b[0m\n",
      "\n",
      "\n",
      "\u001b[1m> Entering new LLMChain chain...\u001b[0m\n",
      "Prompt after formatting:\n",
      "\u001b[32;1m\u001b[1;3m\n",
      "Text:Biology is the scientific study of life.[1][2][3] It is a natural science with a broad scope but has several unifying themes that tie it together as a single, coherent field.[1][2][3] For instance, all organisms are made up of cells that process hereditary information encoded in genes, which can be transmitted to future generations. Another major theme is evolution, which explains the unity and diversity of life.[1][2][3] Energy processing is also important to life as it allows organisms to move, grow, and reproduce.[1][2][3] Finally, all organisms are able to regulate their own internal environments.[1][2][3][4][5]\n",
      "\n",
      "Biologists are able to study life at multiple levels of organization,[1] from the molecular biology of a cell to the anatomy and physiology of plants and animals, and evolution of populations.[1][6] Hence, there are multiple subdisciplines within biology, each defined by the nature of their research questions and the tools that they use.[7][8][9] Like other scientists, biologists use the scientific method to make observations, pose questions, generate hypotheses, perform experiments, and form conclusions about the world around them.[1]\n",
      "\n",
      "Life on Earth, which emerged more than 3.7 billion years ago,[10] is immensely diverse. Biologists have sought to study and classify the various forms of life, from prokaryotic organisms such as archaea and bacteria to eukaryotic organisms such as protists, fungi, plants, and animals. These various organisms contribute to the biodiversity of an ecosystem, where they play specialized roles in the cycling of nutrients and energy through their biophysical environment.\n",
      "You are an expert MCQ Marker. Given the above text, it is your job to create a Quiz of 5 multiple choice questions\n",
      "for biology students in simple tone.\n",
      "Make sure the questions are not repeated and check all the questions to be conforming the text as well.\n",
      "Make sure to format your response like RESPONSE_JSON below and use it as a guide.\n",
      "Ensure to make 5 MCQs.\n",
      "\n",
      "### RESPONSE_JSON \n",
      "{\"1\": {\"mcq\": \"multiple choice question\", \"options\": {\"a\": \"choice here\", \"b\": \"choice here\", \"c\": \"choice here\", \"d\": \"choice here\"}, \"correct\": \"correct answer\"}, \"2\": {\"mcq\": \"multiple choice question\", \"options\": {\"a\": \"choice here\", \"b\": \"choice here\", \"c\": \"choice here\", \"d\": \"choice here\"}, \"correct\": \"correct answer\"}, \"3\": {\"mcq\": \"multiple choice question\", \"options\": {\"a\": \"choice here\", \"b\": \"choice here\", \"c\": \"choice here\", \"d\": \"choice here\"}, \"correct\": \"correct answer\"}}\n",
      "\n",
      "\u001b[0m\n",
      "\n",
      "\u001b[1m> Finished chain.\u001b[0m\n",
      "\n",
      "\u001b[1m> Finished chain.\u001b[0m\n"
     ]
    }
   ],
   "source": [
    "NUMBER=5\n",
    "SUBJECT=\"biology\"\n",
    "TONE=\"simple\"\n",
    "#https://python.langchain.com/docs/modules/model_io/llms/token_usage_tracking\n",
    "\n",
    "#How to setup Token Usage Tracking in LangChain\n",
    "with get_openai_callback() as cb:\n",
    "    response=gen_eval_chain(\n",
    "        {\n",
    "            \"text\": TEXT,\n",
    "            \"number\": NUMBER,\n",
    "            \"subject\":SUBJECT,\n",
    "            \"tone\": TONE,\n",
    "            \"response_json\": json.dumps(RESPONSE_JSON)\n",
    "        }\n",
    "        )"
   ]
  },
  {
   "cell_type": "code",
   "execution_count": 103,
   "metadata": {},
   "outputs": [
    {
     "name": "stdout",
     "output_type": "stream",
     "text": [
      "Total Tokens:0\n",
      "Prompt Tokens:0\n",
      "Completion Tokens:0\n",
      "Total Cost:0.0\n"
     ]
    }
   ],
   "source": [
    "print(f\"Total Tokens:{cb.total_tokens}\")\n",
    "print(f\"Prompt Tokens:{cb.prompt_tokens}\")\n",
    "print(f\"Completion Tokens:{cb.completion_tokens}\")\n",
    "print(f\"Total Cost:{cb.total_cost}\")"
   ]
  },
  {
   "cell_type": "code",
   "execution_count": 104,
   "metadata": {},
   "outputs": [
    {
     "data": {
      "text/plain": [
       "{'text': 'Biology is the scientific study of life.[1][2][3] It is a natural science with a broad scope but has several unifying themes that tie it together as a single, coherent field.[1][2][3] For instance, all organisms are made up of cells that process hereditary information encoded in genes, which can be transmitted to future generations. Another major theme is evolution, which explains the unity and diversity of life.[1][2][3] Energy processing is also important to life as it allows organisms to move, grow, and reproduce.[1][2][3] Finally, all organisms are able to regulate their own internal environments.[1][2][3][4][5]\\n\\nBiologists are able to study life at multiple levels of organization,[1] from the molecular biology of a cell to the anatomy and physiology of plants and animals, and evolution of populations.[1][6] Hence, there are multiple subdisciplines within biology, each defined by the nature of their research questions and the tools that they use.[7][8][9] Like other scientists, biologists use the scientific method to make observations, pose questions, generate hypotheses, perform experiments, and form conclusions about the world around them.[1]\\n\\nLife on Earth, which emerged more than 3.7 billion years ago,[10] is immensely diverse. Biologists have sought to study and classify the various forms of life, from prokaryotic organisms such as archaea and bacteria to eukaryotic organisms such as protists, fungi, plants, and animals. These various organisms contribute to the biodiversity of an ecosystem, where they play specialized roles in the cycling of nutrients and energy through their biophysical environment.',\n",
       " 'number': 5,\n",
       " 'subject': 'biology',\n",
       " 'tone': 'simple',\n",
       " 'response_json': '{\"1\": {\"mcq\": \"multiple choice question\", \"options\": {\"a\": \"choice here\", \"b\": \"choice here\", \"c\": \"choice here\", \"d\": \"choice here\"}, \"correct\": \"correct answer\"}, \"2\": {\"mcq\": \"multiple choice question\", \"options\": {\"a\": \"choice here\", \"b\": \"choice here\", \"c\": \"choice here\", \"d\": \"choice here\"}, \"correct\": \"correct answer\"}, \"3\": {\"mcq\": \"multiple choice question\", \"options\": {\"a\": \"choice here\", \"b\": \"choice here\", \"c\": \"choice here\", \"d\": \"choice here\"}, \"correct\": \"correct answer\"}}',\n",
       " 'quiz': '### RESPONSE_JSON\\n{\"1\": {\"mcq\": \"What is biology the scientific study of?\", \"options\": {\"a\": \"The study of the physical world\", \"b\": \"The scientific study of life\", \"c\": \"The study of the chemical elements\", \"d\": \"The study of the Earth\\'s atmosphere\"}, \"correct\": \"b\"},\\n\"2\": {\"mcq\": \"What is one major theme of biology?\", \"options\": {\"a\": \"The study of the physical properties of organisms\", \"b\": \"The study of the origin and evolution of life\", \"c\": \"The study of the chemical reactions in organisms\", \"d\": \"The study of the structure and function of cells\"}, \"correct\": \"b\"},\\n\"3\": {\"mcq\": \"What is the study of the origin and evolution of life called?\", \"options\": {\"a\": \"Molecular biology\", \"b\": \"Cellular biology\", \"c\": \"Evolutionary biology\", \"d\": \"Genetics\"}, \"correct\": \"c\"},\\n\"4\": {\"mcq\": \"What is the scientific method used for in biology?\", \"options\": {\"a\": \"To test hypotheses and form conclusions about the natural world\", \"b\": \"To study the physical properties of organisms\", \"c\": \"To analyze the chemical reactions in organisms\", \"d\": \"To classify different forms of life\"}, \"correct\": \"a\"},\\n\"5\": {\"mcq\": \"Which of the following is NOT a major theme of biology?\", \"options\": {\"a\": \"The study of energy processing in organisms\", \"b\": \"The study of the internal regulation of organisms\", \"c\": \"The study of the origin and evolution of life\", \"d\": \"The study of the structure and function of cells\"}, \"correct\": \"c\"}}',\n",
       " 'review': '### RESPONSE_JSON\\n{\"1\": {\"mcq\": \"What is biology the scientific study of?\", \"options\": {\"a\": \"The study of the physical world\", \"b\": \"The scientific study of life\", \"c\": \"The study of the chemical elements\", \"d\": \"The study of the Earth\\'s atmosphere\"}, \"correct\": \"b\"},\\n\"2\": {\"mcq\": \"What is one major theme of biology?\", \"options\": {\"a\": \"The study of the physical properties of organisms\", \"b\": \"The study of the origin and evolution of life\", \"c\": \"The study of the chemical reactions in organisms\", \"d\": \"The study of the structure and function of cells\"}, \"correct\": \"b\"},\\n\"3\": {\"mcq\": \"What is the study of the origin and evolution of life called?\", \"options\": {\"a\": \"Molecular biology\", \"b\": \"Cellular biology\", \"c\": \"Evolutionary biology\", \"d\": \"Genetics\"}, \"correct\": \"c\"},\\n\"4\": {\"mcq\": \"What is the scientific method used for in biology?\", \"options\": {\"a\": \"To test hypotheses and form conclusions about the natural world\", \"b\": \"To study the physical properties of organisms\", \"c\": \"To analyze the chemical reactions in organisms\", \"d\": \"To classify different forms of life\"}, \"correct\": \"a\"},\\n\"5\": {\"mcq\": \"Which of the following is NOT a major theme of biology?\", \"options\": {\"a\": \"The study of energy processing in organisms\", \"b\": \"The study of the internal regulation of organisms\", \"c\": \"The study of the origin and evolution of life\", \"d\": \"The study of the structure and function of cells\"}, \"correct\": \"c\"}}'}"
      ]
     },
     "execution_count": 104,
     "metadata": {},
     "output_type": "execute_result"
    }
   ],
   "source": [
    "response"
   ]
  },
  {
   "cell_type": "code",
   "execution_count": 108,
   "metadata": {},
   "outputs": [
    {
     "data": {
      "text/plain": [
       "'}}\"c\" :\"tcerroc\" ,}\"sllec fo noitcnuf dna erutcurts eht fo yduts ehT\" :\"d\" ,\"efil fo noitulove dna nigiro eht fo yduts ehT\" :\"c\" ,\"smsinagro fo noitaluger lanretni eht fo yduts ehT\" :\"b\" ,\"smsinagro ni gnissecorp ygrene fo yduts ehT\" :\"a\"{ :\"snoitpo\" ,\"?ygoloib fo emeht rojam a TON si gniwollof eht fo hcihW\" :\"qcm\"{ :\"5\"\\n,}\"a\" :\"tcerroc\" ,}\"efil fo smrof tnereffid yfissalc oT\" :\"d\" ,\"smsinagro ni snoitcaer lacimehc eht ezylana oT\" :\"c\" ,\"smsinagro fo seitreporp lacisyhp eht yduts oT\" :\"b\" ,\"dlrow larutan eht tuoba snoisulcnoc mrof dna sesehtopyh tset oT\" :\"a\"{ :\"snoitpo\" ,\"?ygoloib ni rof desu dohtem cifitneics eht si tahW\" :\"qcm\"{ :\"4\"\\n,}\"c\" :\"tcerroc\" ,}\"sciteneG\" :\"d\" ,\"ygoloib yranoitulovE\" :\"c\" ,\"ygoloib ralulleC\" :\"b\" ,\"ygoloib raluceloM\" :\"a\"{ :\"snoitpo\" ,\"?dellac efil fo noitulove dna nigiro eht fo yduts eht si tahW\" :\"qcm\"{ :\"3\"\\n,}\"b\" :\"tcerroc\" ,}\"sllec fo noitcnuf dna erutcurts eht fo yduts ehT\" :\"d\" ,\"smsinagro ni snoitcaer lacimehc eht fo yduts ehT\" :\"c\" ,\"efil fo noitulove dna nigiro eht fo yduts ehT\" :\"b\" ,\"smsinagro fo seitreporp lacisyhp eht fo yduts ehT\" :\"a\"{ :\"snoitpo\" ,\"?ygoloib fo emeht rojam eno si tahW\" :\"qcm\"{ :\"2\"\\n,}\"b\" :\"tcerroc\" ,}\"erehpsomta s\\'htraE eht fo yduts ehT\" :\"d\" ,\"stnemele lacimehc eht fo yduts ehT\" :\"c\" ,\"efil fo yduts cifitneics ehT\" :\"b\" ,\"dlrow lacisyhp eht fo yduts ehT\" :\"a\"{ :\"snoitpo\" ,\"?fo yduts cifitneics eht ygoloib si tahW\" :\"qcm\"{ :\"1\"{\\nNOSJ_ESNOPSER ###'"
      ]
     },
     "execution_count": 108,
     "metadata": {},
     "output_type": "execute_result"
    }
   ],
   "source": [
    "quiz=response.get(\"quiz\")"
   ]
  },
  {
   "cell_type": "code",
   "execution_count": 109,
   "metadata": {},
   "outputs": [],
   "source": [
    "quiz=json.loads( quiz[quiz.index(\"{\"):len(quiz)-quiz[::-1].index(\"}\") ])"
   ]
  },
  {
   "cell_type": "code",
   "execution_count": 110,
   "metadata": {},
   "outputs": [
    {
     "data": {
      "text/plain": [
       "{'1': {'mcq': 'What is biology the scientific study of?',\n",
       "  'options': {'a': 'The study of the physical world',\n",
       "   'b': 'The scientific study of life',\n",
       "   'c': 'The study of the chemical elements',\n",
       "   'd': \"The study of the Earth's atmosphere\"},\n",
       "  'correct': 'b'},\n",
       " '2': {'mcq': 'What is one major theme of biology?',\n",
       "  'options': {'a': 'The study of the physical properties of organisms',\n",
       "   'b': 'The study of the origin and evolution of life',\n",
       "   'c': 'The study of the chemical reactions in organisms',\n",
       "   'd': 'The study of the structure and function of cells'},\n",
       "  'correct': 'b'},\n",
       " '3': {'mcq': 'What is the study of the origin and evolution of life called?',\n",
       "  'options': {'a': 'Molecular biology',\n",
       "   'b': 'Cellular biology',\n",
       "   'c': 'Evolutionary biology',\n",
       "   'd': 'Genetics'},\n",
       "  'correct': 'c'},\n",
       " '4': {'mcq': 'What is the scientific method used for in biology?',\n",
       "  'options': {'a': 'To test hypotheses and form conclusions about the natural world',\n",
       "   'b': 'To study the physical properties of organisms',\n",
       "   'c': 'To analyze the chemical reactions in organisms',\n",
       "   'd': 'To classify different forms of life'},\n",
       "  'correct': 'a'},\n",
       " '5': {'mcq': 'Which of the following is NOT a major theme of biology?',\n",
       "  'options': {'a': 'The study of energy processing in organisms',\n",
       "   'b': 'The study of the internal regulation of organisms',\n",
       "   'c': 'The study of the origin and evolution of life',\n",
       "   'd': 'The study of the structure and function of cells'},\n",
       "  'correct': 'c'}}"
      ]
     },
     "execution_count": 110,
     "metadata": {},
     "output_type": "execute_result"
    }
   ],
   "source": [
    "quiz"
   ]
  },
  {
   "cell_type": "code",
   "execution_count": 111,
   "metadata": {},
   "outputs": [],
   "source": [
    "quiz_table_data = []\n",
    "for key, value in quiz.items():\n",
    "    mcq = value[\"mcq\"]\n",
    "    options = \" | \".join(\n",
    "        [\n",
    "            f\"{option}: {option_value}\"\n",
    "            for option, option_value in value[\"options\"].items()\n",
    "            ]\n",
    "        )\n",
    "    correct = value[\"correct\"]\n",
    "    quiz_table_data.append({\"MCQ\": mcq, \"Choices\": options, \"Correct\": correct})"
   ]
  },
  {
   "cell_type": "code",
   "execution_count": 112,
   "metadata": {},
   "outputs": [
    {
     "data": {
      "text/plain": [
       "[{'MCQ': 'What is biology the scientific study of?',\n",
       "  'Choices': \"a: The study of the physical world | b: The scientific study of life | c: The study of the chemical elements | d: The study of the Earth's atmosphere\",\n",
       "  'Correct': 'b'},\n",
       " {'MCQ': 'What is one major theme of biology?',\n",
       "  'Choices': 'a: The study of the physical properties of organisms | b: The study of the origin and evolution of life | c: The study of the chemical reactions in organisms | d: The study of the structure and function of cells',\n",
       "  'Correct': 'b'},\n",
       " {'MCQ': 'What is the study of the origin and evolution of life called?',\n",
       "  'Choices': 'a: Molecular biology | b: Cellular biology | c: Evolutionary biology | d: Genetics',\n",
       "  'Correct': 'c'},\n",
       " {'MCQ': 'What is the scientific method used for in biology?',\n",
       "  'Choices': 'a: To test hypotheses and form conclusions about the natural world | b: To study the physical properties of organisms | c: To analyze the chemical reactions in organisms | d: To classify different forms of life',\n",
       "  'Correct': 'a'},\n",
       " {'MCQ': 'Which of the following is NOT a major theme of biology?',\n",
       "  'Choices': 'a: The study of energy processing in organisms | b: The study of the internal regulation of organisms | c: The study of the origin and evolution of life | d: The study of the structure and function of cells',\n",
       "  'Correct': 'c'}]"
      ]
     },
     "execution_count": 112,
     "metadata": {},
     "output_type": "execute_result"
    }
   ],
   "source": [
    "quiz_table_data"
   ]
  },
  {
   "cell_type": "code",
   "execution_count": 113,
   "metadata": {},
   "outputs": [],
   "source": [
    "quiz=pd.DataFrame(quiz_table_data)"
   ]
  },
  {
   "cell_type": "code",
   "execution_count": 114,
   "metadata": {},
   "outputs": [],
   "source": [
    "quiz.to_csv(\"mcq_ml.csv\",index=False)"
   ]
  },
  {
   "cell_type": "code",
   "execution_count": 115,
   "metadata": {},
   "outputs": [
    {
     "data": {
      "text/plain": [
       "'05_04_2024_23_52_41'"
      ]
     },
     "execution_count": 115,
     "metadata": {},
     "output_type": "execute_result"
    }
   ],
   "source": [
    "from datetime import datetime\n",
    "datetime.now().strftime('%m_%d_%Y_%H_%M_%S')"
   ]
  },
  {
   "cell_type": "code",
   "execution_count": null,
   "metadata": {},
   "outputs": [],
   "source": []
  }
 ],
 "metadata": {
  "kernelspec": {
   "display_name": "env",
   "language": "python",
   "name": "python3"
  },
  "language_info": {
   "codemirror_mode": {
    "name": "ipython",
    "version": 3
   },
   "file_extension": ".py",
   "mimetype": "text/x-python",
   "name": "python",
   "nbconvert_exporter": "python",
   "pygments_lexer": "ipython3",
   "version": "3.10.5"
  }
 },
 "nbformat": 4,
 "nbformat_minor": 2
}
